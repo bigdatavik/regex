{
  "nbformat": 4,
  "nbformat_minor": 0,
  "metadata": {
    "colab": {
      "name": "Regex.ipynb",
      "provenance": [],
      "collapsed_sections": [],
      "authorship_tag": "ABX9TyP5vNhMwS1t1WR67fBV351D",
      "include_colab_link": true
    },
    "kernelspec": {
      "name": "python3",
      "display_name": "Python 3"
    },
    "language_info": {
      "name": "python"
    }
  },
  "cells": [
    {
      "cell_type": "markdown",
      "metadata": {
        "id": "view-in-github",
        "colab_type": "text"
      },
      "source": [
        "<a href=\"https://colab.research.google.com/github/bigdatavik/regex/blob/main/Regex.ipynb\" target=\"_parent\"><img src=\"https://colab.research.google.com/assets/colab-badge.svg\" alt=\"Open In Colab\"/></a>"
      ]
    },
    {
      "cell_type": "code",
      "source": [
        "# Import re\n",
        "import re\n",
        "\n",
        "metrics = \"metric1=23 metric2=42 dc=23 abc=xyz\"\n",
        "\n",
        "# Write regex to capture information of the flight\n",
        "regex = r\"([a-z0-9]+)=([a-z0-9]+)\"\n",
        "\n",
        "# Find all matches of the flight information\n",
        "metric_matches = re.findall(regex, metrics)\n",
        "\n",
        "#print(metric_matches)\n",
        "    \n",
        "#Print the matches\n",
        "print(\"{}: {}\".format(metric_matches[0][0], metric_matches[0][1]))\n"
      ],
      "metadata": {
        "colab": {
          "base_uri": "https://localhost:8080/"
        },
        "id": "18lR_VfYu3f5",
        "outputId": "035de925-4a2b-480b-9cc1-91d3025e3b03"
      },
      "execution_count": 8,
      "outputs": [
        {
          "output_type": "stream",
          "name": "stdout",
          "text": [
            "metric1: 23\n"
          ]
        }
      ]
    },
    {
      "cell_type": "code",
      "source": [
        "# Import re\n",
        "import re\n",
        "\n",
        "metrics = \"Jul 20 23:59:02 firewall 1,2021/07/20 23:59:02,1234567890,HIPMA TCH,0,2049,2021/07/20 23:59:02,xx.xx,vsys1,xx-xxxxx -MB,Mac,10.252.31.187,GP-H IP,1,profile,0,0,1052623,0x0,1 7,11,12,0,,xxxxx,1,0.0.0.0\"\n",
        "\n",
        "# Write regex to capture information of the flight\n",
        "regex = r\"([\\d]{4}\\/[\\d]{2}\\/[\\d]{2}\\s[\\d]{2}:[\\d]{2}:[\\d]{2})\"\n",
        "\n",
        "# Find all matches of the flight information\n",
        "metric_matches = re.findall(regex, metrics)\n",
        "\n",
        "#print(metric_matches)\n",
        "    \n",
        "#Print the matches\n",
        "print(\"ts: {}\".format(metric_matches[0]))"
      ],
      "metadata": {
        "colab": {
          "base_uri": "https://localhost:8080/"
        },
        "id": "rRyXs2-rPpI8",
        "outputId": "ac653708-d596-474f-bc2b-1b8fae879e71"
      },
      "execution_count": 8,
      "outputs": [
        {
          "output_type": "stream",
          "name": "stdout",
          "text": [
            "ts: 2021/07/20 23:59:02\n"
          ]
        }
      ]
    },
    {
      "cell_type": "code",
      "source": [
        "# Import re\n",
        "import re\n",
        "\n",
        "metrics = '2020-04-23T14:19:32.336471 Z nagios.cribl.io gogen 6 - [meta index=\"cribl\" sourcetype=\"nagios\" source=\"nagios.log\"] 2020-04-23 14:19:32,336 auth1.cribl.io is UP'\n",
        "\n",
        "# Write regex to capture information of the flight\n",
        "regex = r\"([\\w]+\\.[\\w]+\\.[\\w]+) is ([\\w]+)\"\n",
        "\n",
        "# Find all matches of the flight information\n",
        "metric_matches = re.findall(regex, metrics)\n",
        "\n",
        "# print(metric_matches)\n",
        "    \n",
        "#Print the matches\n",
        "print(\"Host: {}\".format(metric_matches[0][0]))\n",
        "print(\"State: {}\".format(metric_matches[0][1]))"
      ],
      "metadata": {
        "colab": {
          "base_uri": "https://localhost:8080/"
        },
        "id": "r55xMcbGRu1V",
        "outputId": "f6079e48-2815-48b7-ef2e-f55b85b6eb48"
      },
      "execution_count": 11,
      "outputs": [
        {
          "output_type": "stream",
          "name": "stdout",
          "text": [
            "Host: auth1.cribl.io\n",
            "State: UP\n"
          ]
        }
      ]
    }
  ]
}